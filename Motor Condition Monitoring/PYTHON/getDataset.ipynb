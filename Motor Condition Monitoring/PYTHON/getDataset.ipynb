{
 "cells": [
  {
   "cell_type": "code",
   "execution_count": 5,
   "id": "4ed73034-75f3-43c3-9b40-e9bb287bf77e",
   "metadata": {},
   "outputs": [],
   "source": [
    "import sys\n",
    "from opcua import Client\n",
    "import time\n",
    "import pandas as pd"
   ]
  },
  {
   "cell_type": "code",
   "execution_count": 68,
   "id": "ff65f3e6-1ead-41de-ad72-5a1dac78f337",
   "metadata": {},
   "outputs": [
    {
     "name": "stdout",
     "output_type": "stream",
     "text": [
      "Connected to opcua server.\n"
     ]
    }
   ],
   "source": [
    "url = \"opc.tcp://\" # // dan sonra ip adresi:Port şeklinde yazılacak\n",
    "try:\n",
    "    client = Client(url)\n",
    "    client.connect()\n",
    "    print(\"Connected to opcua server.\")\n",
    "except Exception as err:\n",
    "    print(\"Error: \", err)\n",
    "    sys.exit(1)"
   ]
  },
  {
   "cell_type": "code",
   "execution_count": null,
   "id": "2f824c94-8d4a-43d2-9253-107f4c56620a",
   "metadata": {},
   "outputs": [],
   "source": [
    "currentList = []\n",
    "followingErrorList = []\n",
    "if __name__ == '__main__':\n",
    "    Current = client.get_node(\"ns=4;s=|var|CPX-E-CEC-M1.Application.PLC_PRG.iCurrent\") # değişkenlerin Node id leri\n",
    "    FollowingError = client.get_node(\"ns=4;s=|var|CPX-E-CEC-M1.Application.PLC_PRG.iFollowingError\")\n",
    "    State = client.get_node(\"ns=4;s=|var|CPX-E-CEC-M1.Application.PLC_PRG.iState\")\n",
    "    while True:\n",
    "        stateValue = State.get_value()\n",
    "        if stateValue == 50:\n",
    "            currentValue = Current.get_value()\n",
    "            currentList.append(currentValue)\n",
    "            followingErrorValue = FollowingError.get_value()\n",
    "            if followingErrorValue < 0:\n",
    "                followingErrorValue *= -1\n",
    "            followingErrorList.append(followingErrorValue)\n",
    "            print(f\"{len(currentList)} veri eklendi.\")\n",
    "            time.sleep(.2)\n",
    "        if stateValue == 100:\n",
    "            break\n",
    "        time.sleep(.2)            "
   ]
  },
  {
   "cell_type": "code",
   "execution_count": 70,
   "id": "f36adc5d-2b38-4c58-8c5c-2ab0cb2c2671",
   "metadata": {},
   "outputs": [],
   "source": [
    "servoDF = pd.DataFrame(list(zip(currentList, followingErrorList)), columns=[\"Current\", \"Following Error\"])"
   ]
  },
  {
   "cell_type": "code",
   "execution_count": 72,
   "id": "3b89818b-5bf0-478d-b582-c6cceb35913d",
   "metadata": {},
   "outputs": [],
   "source": [
    "servoDF.to_excel(\"servoDB.xlsx\", sheet_name=\"passengers\", index=False)"
   ]
  }
 ],
 "metadata": {
  "kernelspec": {
   "display_name": "Python 3 (ipykernel)",
   "language": "python",
   "name": "python3"
  },
  "language_info": {
   "codemirror_mode": {
    "name": "ipython",
    "version": 3
   },
   "file_extension": ".py",
   "mimetype": "text/x-python",
   "name": "python",
   "nbconvert_exporter": "python",
   "pygments_lexer": "ipython3",
   "version": "3.12.1"
  }
 },
 "nbformat": 4,
 "nbformat_minor": 5
}
